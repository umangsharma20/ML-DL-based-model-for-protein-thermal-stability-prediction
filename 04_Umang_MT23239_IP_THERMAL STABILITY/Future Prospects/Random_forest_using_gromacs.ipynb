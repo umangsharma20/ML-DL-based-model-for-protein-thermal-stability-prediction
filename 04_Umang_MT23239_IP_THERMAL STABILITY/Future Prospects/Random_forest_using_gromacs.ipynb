{
  "nbformat": 4,
  "nbformat_minor": 0,
  "metadata": {
    "colab": {
      "provenance": [],
      "gpuType": "T4"
    },
    "kernelspec": {
      "name": "python3",
      "display_name": "Python 3"
    },
    "language_info": {
      "name": "python"
    },
    "accelerator": "GPU"
  },
  "cells": [
    {
      "cell_type": "code",
      "source": [
        "!pip install pandas biopython"
      ],
      "metadata": {
        "colab": {
          "base_uri": "https://localhost:8080/"
        },
        "id": "Aw6tYdfRzI1-",
        "outputId": "ea89571c-1d98-4752-c02f-889bfac67148"
      },
      "execution_count": null,
      "outputs": [
        {
          "output_type": "stream",
          "name": "stdout",
          "text": [
            "Requirement already satisfied: pandas in /usr/local/lib/python3.10/dist-packages (2.0.3)\n",
            "Collecting biopython\n",
            "  Downloading biopython-1.84-cp310-cp310-manylinux_2_17_x86_64.manylinux2014_x86_64.whl.metadata (12 kB)\n",
            "Requirement already satisfied: python-dateutil>=2.8.2 in /usr/local/lib/python3.10/dist-packages (from pandas) (2.8.2)\n",
            "Requirement already satisfied: pytz>=2020.1 in /usr/local/lib/python3.10/dist-packages (from pandas) (2024.1)\n",
            "Requirement already satisfied: tzdata>=2022.1 in /usr/local/lib/python3.10/dist-packages (from pandas) (2024.1)\n",
            "Requirement already satisfied: numpy>=1.21.0 in /usr/local/lib/python3.10/dist-packages (from pandas) (1.25.2)\n",
            "Requirement already satisfied: six>=1.5 in /usr/local/lib/python3.10/dist-packages (from python-dateutil>=2.8.2->pandas) (1.16.0)\n",
            "Downloading biopython-1.84-cp310-cp310-manylinux_2_17_x86_64.manylinux2014_x86_64.whl (3.2 MB)\n",
            "\u001b[2K   \u001b[90m━━━━━━━━━━━━━━━━━━━━━━━━━━━━━━━━━━━━━━━━\u001b[0m \u001b[32m3.2/3.2 MB\u001b[0m \u001b[31m39.9 MB/s\u001b[0m eta \u001b[36m0:00:00\u001b[0m\n",
            "\u001b[?25hInstalling collected packages: biopython\n",
            "Successfully installed biopython-1.84\n"
          ]
        }
      ]
    },
    {
      "cell_type": "code",
      "execution_count": null,
      "metadata": {
        "colab": {
          "base_uri": "https://localhost:8080/"
        },
        "id": "ktDLHlInixxQ",
        "outputId": "62066695-29ba-4f01-fed7-d00bc1b586e9"
      },
      "outputs": [
        {
          "output_type": "stream",
          "name": "stdout",
          "text": [
            "\r0% [Working]\r            \rGet:1 https://cloud.r-project.org/bin/linux/ubuntu jammy-cran40/ InRelease [3,626 B]\n",
            "Hit:2 https://developer.download.nvidia.com/compute/cuda/repos/ubuntu2204/x86_64  InRelease\n",
            "Hit:3 http://archive.ubuntu.com/ubuntu jammy InRelease\n",
            "Get:4 http://security.ubuntu.com/ubuntu jammy-security InRelease [129 kB]\n",
            "Get:5 http://archive.ubuntu.com/ubuntu jammy-updates InRelease [128 kB]\n",
            "Hit:6 https://ppa.launchpadcontent.net/deadsnakes/ppa/ubuntu jammy InRelease\n",
            "Ign:7 https://r2u.stat.illinois.edu/ubuntu jammy InRelease\n",
            "Hit:8 https://ppa.launchpadcontent.net/graphics-drivers/ppa/ubuntu jammy InRelease\n",
            "Get:9 https://r2u.stat.illinois.edu/ubuntu jammy Release [5,713 B]\n",
            "Hit:10 https://ppa.launchpadcontent.net/ubuntugis/ppa/ubuntu jammy InRelease\n",
            "Get:11 https://r2u.stat.illinois.edu/ubuntu jammy Release.gpg [793 B]\n",
            "Get:12 http://archive.ubuntu.com/ubuntu jammy-backports InRelease [127 kB]\n",
            "Get:13 http://security.ubuntu.com/ubuntu jammy-security/universe amd64 Packages [1,129 kB]\n",
            "Get:14 http://archive.ubuntu.com/ubuntu jammy-updates/restricted amd64 Packages [2,858 kB]\n",
            "Get:15 https://r2u.stat.illinois.edu/ubuntu jammy/main all Packages [8,200 kB]\n",
            "Get:16 http://security.ubuntu.com/ubuntu jammy-security/restricted amd64 Packages [2,771 kB]\n",
            "Get:17 http://security.ubuntu.com/ubuntu jammy-security/main amd64 Packages [2,104 kB]\n",
            "Get:18 http://archive.ubuntu.com/ubuntu jammy-updates/main amd64 Packages [2,378 kB]\n",
            "Get:19 http://archive.ubuntu.com/ubuntu jammy-updates/universe amd64 Packages [1,420 kB]\n",
            "Get:20 https://r2u.stat.illinois.edu/ubuntu jammy/main amd64 Packages [2,551 kB]\n",
            "Fetched 23.8 MB in 5s (4,946 kB/s)\n",
            "Reading package lists... Done\n",
            "W: Skipping acquire of configured file 'main/source/Sources' as repository 'https://r2u.stat.illinois.edu/ubuntu jammy InRelease' does not seem to provide it (sources.list entry misspelt?)\n",
            "Reading package lists... Done\n",
            "Building dependency tree... Done\n",
            "Reading state information... Done\n",
            "The following additional packages will be installed:\n",
            "  fonts-mathjax gromacs-data libfftw3-double3 libfftw3-single3 libgromacs6 libjs-mathjax\n",
            "  sse4.2-support\n",
            "Suggested packages:\n",
            "  pymol libfftw3-bin libfftw3-dev fonts-mathjax-extras fonts-stix libjs-mathjax-doc\n",
            "The following NEW packages will be installed:\n",
            "  fonts-mathjax gromacs gromacs-data libfftw3-double3 libfftw3-single3 libgromacs6 libjs-mathjax\n",
            "  sse4.2-support\n",
            "0 upgraded, 8 newly installed, 0 to remove and 49 not upgraded.\n",
            "Need to get 58.3 MB of archives.\n",
            "After this operation, 310 MB of additional disk space will be used.\n",
            "Get:1 http://archive.ubuntu.com/ubuntu jammy/universe amd64 sse4.2-support amd64 6 [8,572 B]\n",
            "Get:2 http://archive.ubuntu.com/ubuntu jammy/main amd64 fonts-mathjax all 2.7.9+dfsg-1 [2,208 kB]\n",
            "Get:3 http://archive.ubuntu.com/ubuntu jammy/main amd64 libfftw3-double3 amd64 3.3.8-2ubuntu8 [770 kB]\n",
            "Get:4 http://archive.ubuntu.com/ubuntu jammy/main amd64 libfftw3-single3 amd64 3.3.8-2ubuntu8 [800 kB]\n",
            "Get:5 http://archive.ubuntu.com/ubuntu jammy/universe amd64 libgromacs6 amd64 2021.4-2 [12.3 MB]\n",
            "Get:6 http://archive.ubuntu.com/ubuntu jammy/main amd64 libjs-mathjax all 2.7.9+dfsg-1 [5,665 kB]\n",
            "Get:7 http://archive.ubuntu.com/ubuntu jammy/universe amd64 gromacs-data all 2021.4-2 [36.3 MB]\n",
            "Get:8 http://archive.ubuntu.com/ubuntu jammy/universe amd64 gromacs amd64 2021.4-2 [131 kB]\n",
            "Fetched 58.3 MB in 5s (11.9 MB/s)\n",
            "Preconfiguring packages ...\n",
            "Selecting previously unselected package sse4.2-support.\n",
            "(Reading database ... 123589 files and directories currently installed.)\n",
            "Preparing to unpack .../0-sse4.2-support_6_amd64.deb ...\n",
            "Unpacking sse4.2-support (6) ...\n",
            "Selecting previously unselected package fonts-mathjax.\n",
            "Preparing to unpack .../1-fonts-mathjax_2.7.9+dfsg-1_all.deb ...\n",
            "Unpacking fonts-mathjax (2.7.9+dfsg-1) ...\n",
            "Selecting previously unselected package libfftw3-double3:amd64.\n",
            "Preparing to unpack .../2-libfftw3-double3_3.3.8-2ubuntu8_amd64.deb ...\n",
            "Unpacking libfftw3-double3:amd64 (3.3.8-2ubuntu8) ...\n",
            "Selecting previously unselected package libfftw3-single3:amd64.\n",
            "Preparing to unpack .../3-libfftw3-single3_3.3.8-2ubuntu8_amd64.deb ...\n",
            "Unpacking libfftw3-single3:amd64 (3.3.8-2ubuntu8) ...\n",
            "Selecting previously unselected package libgromacs6:amd64.\n",
            "Preparing to unpack .../4-libgromacs6_2021.4-2_amd64.deb ...\n",
            "Unpacking libgromacs6:amd64 (2021.4-2) ...\n",
            "Selecting previously unselected package libjs-mathjax.\n",
            "Preparing to unpack .../5-libjs-mathjax_2.7.9+dfsg-1_all.deb ...\n",
            "Unpacking libjs-mathjax (2.7.9+dfsg-1) ...\n",
            "Selecting previously unselected package gromacs-data.\n",
            "Preparing to unpack .../6-gromacs-data_2021.4-2_all.deb ...\n",
            "Unpacking gromacs-data (2021.4-2) ...\n",
            "Selecting previously unselected package gromacs.\n",
            "Preparing to unpack .../7-gromacs_2021.4-2_amd64.deb ...\n",
            "Unpacking gromacs (2021.4-2) ...\n",
            "Setting up fonts-mathjax (2.7.9+dfsg-1) ...\n",
            "Setting up libfftw3-single3:amd64 (3.3.8-2ubuntu8) ...\n",
            "Setting up libjs-mathjax (2.7.9+dfsg-1) ...\n",
            "Setting up libfftw3-double3:amd64 (3.3.8-2ubuntu8) ...\n",
            "Setting up sse4.2-support (6) ...\n",
            "Setting up libgromacs6:amd64 (2021.4-2) ...\n",
            "Setting up gromacs-data (2021.4-2) ...\n",
            "Setting up gromacs (2021.4-2) ...\n",
            "Processing triggers for libc-bin (2.35-0ubuntu3.4) ...\n",
            "/sbin/ldconfig.real: /usr/local/lib/libtbbbind_2_5.so.3 is not a symbolic link\n",
            "\n",
            "/sbin/ldconfig.real: /usr/local/lib/libtbb.so.12 is not a symbolic link\n",
            "\n",
            "/sbin/ldconfig.real: /usr/local/lib/libtbbbind.so.3 is not a symbolic link\n",
            "\n",
            "/sbin/ldconfig.real: /usr/local/lib/libtbbmalloc.so.2 is not a symbolic link\n",
            "\n",
            "/sbin/ldconfig.real: /usr/local/lib/libtbbbind_2_0.so.3 is not a symbolic link\n",
            "\n",
            "/sbin/ldconfig.real: /usr/local/lib/libtbbmalloc_proxy.so.2 is not a symbolic link\n",
            "\n",
            "Processing triggers for man-db (2.10.2-1) ...\n",
            "Processing triggers for fontconfig (2.13.1-4.2ubuntu5) ...\n",
            "Reading package lists... Done\n",
            "Building dependency tree... Done\n",
            "Reading state information... Done\n",
            "The following additional packages will be installed:\n",
            "  libcifpp-data libcifpp2\n",
            "The following NEW packages will be installed:\n",
            "  dssp libcifpp-data libcifpp2\n",
            "0 upgraded, 3 newly installed, 0 to remove and 49 not upgraded.\n",
            "Need to get 1,967 kB of archives.\n",
            "After this operation, 15.0 MB of additional disk space will be used.\n",
            "Get:1 http://archive.ubuntu.com/ubuntu jammy/universe amd64 libcifpp-data all 2.0.5-1build1 [437 kB]\n",
            "Get:2 http://archive.ubuntu.com/ubuntu jammy/universe amd64 libcifpp2 amd64 2.0.5-1build1 [1,019 kB]\n",
            "Get:3 http://archive.ubuntu.com/ubuntu jammy/universe amd64 dssp amd64 4.0.4-1 [511 kB]\n",
            "Fetched 1,967 kB in 2s (1,102 kB/s)\n",
            "Preconfiguring packages ...\n",
            "Selecting previously unselected package libcifpp-data.\n",
            "(Reading database ... 149082 files and directories currently installed.)\n",
            "Preparing to unpack .../libcifpp-data_2.0.5-1build1_all.deb ...\n",
            "Unpacking libcifpp-data (2.0.5-1build1) ...\n",
            "Selecting previously unselected package libcifpp2:amd64.\n",
            "Preparing to unpack .../libcifpp2_2.0.5-1build1_amd64.deb ...\n",
            "Unpacking libcifpp2:amd64 (2.0.5-1build1) ...\n",
            "Selecting previously unselected package dssp.\n",
            "Preparing to unpack .../dssp_4.0.4-1_amd64.deb ...\n",
            "Unpacking dssp (4.0.4-1) ...\n",
            "Setting up libcifpp-data (2.0.5-1build1) ...\n",
            "Setting up libcifpp2:amd64 (2.0.5-1build1) ...\n",
            "Setting up dssp (4.0.4-1) ...\n",
            "Processing triggers for libc-bin (2.35-0ubuntu3.4) ...\n",
            "/sbin/ldconfig.real: /usr/local/lib/libtbbbind_2_5.so.3 is not a symbolic link\n",
            "\n",
            "/sbin/ldconfig.real: /usr/local/lib/libtbb.so.12 is not a symbolic link\n",
            "\n",
            "/sbin/ldconfig.real: /usr/local/lib/libtbbbind.so.3 is not a symbolic link\n",
            "\n",
            "/sbin/ldconfig.real: /usr/local/lib/libtbbmalloc.so.2 is not a symbolic link\n",
            "\n",
            "/sbin/ldconfig.real: /usr/local/lib/libtbbbind_2_0.so.3 is not a symbolic link\n",
            "\n",
            "/sbin/ldconfig.real: /usr/local/lib/libtbbmalloc_proxy.so.2 is not a symbolic link\n",
            "\n",
            "Processing triggers for man-db (2.10.2-1) ...\n"
          ]
        }
      ],
      "source": [
        "# Install GROMACS\n",
        "!apt-get update\n",
        "!apt-get install -y gromacs\n",
        "\n",
        "# Install DSSP\n",
        "!apt-get install -y dssp\n"
      ]
    },
    {
      "cell_type": "code",
      "source": [
        "import zipfile\n",
        "import os\n",
        "\n",
        "# Specify the path to the zip file\n",
        "zip_file_path = '/content/PDB str-20240520T081153Z-001.zip'\n",
        "\n",
        "# List the contents of the zip file\n",
        "with zipfile.ZipFile(zip_file_path, 'r') as zip_ref:\n",
        "    zip_contents = zip_ref.namelist()\n",
        "    print(f\"Contents of the zip file: {zip_contents}\")\n"
      ],
      "metadata": {
        "colab": {
          "base_uri": "https://localhost:8080/"
        },
        "id": "z8FGrteg3XE-",
        "outputId": "a5f69825-e273-4f7c-ac49-74505d486c61"
      },
      "execution_count": null,
      "outputs": [
        {
          "output_type": "stream",
          "name": "stdout",
          "text": [
            "Contents of the zip file: ['PDB str/AF-Q72GK7-F1-model_v4.pdb', 'PDB str/AF-P61989-F1-model_v4.pdb', 'PDB str/AF-Q72HX7-F1-model_v4.pdb', 'PDB str/AF-Q5SJ47-F1-model_v4.pdb', 'PDB str/AF-Q72GR3-F1-model_v4.pdb', 'PDB str/AF-Q72IX8-F1-model_v4.pdb', 'PDB str/AF-Q6L021-F1-model_v4.pdb', 'PDB str/AF-Q6L0H3-F1-model_v4.pdb', 'PDB str/AF-Q5SHF6-F1-model_v4.pdb', 'PDB str/AF-Q6KZT5-F1-model_v4.pdb', 'PDB str/AF-Q6L0B8-F1-model_v4.pdb', 'PDB str/AF-Q6KYX9-F1-model_v4.pdb', 'PDB str/AF-Q6L1C2-F1-model_v4.pdb', 'PDB str/AF-P0AEZ9-F1-model_v4.pdb', 'PDB str/AF-Q6L0B7-F1-model_v4.pdb', 'PDB str/AF-Q53WF6-F1-model_v4.pdb', 'PDB str/AF-Q8N8S7-F1-model_v4.pdb', 'PDB str/AF-Q5SM34-F1-model_v4.pdb', 'PDB str/AF-P0AFW8-F1-model_v4.pdb', 'PDB str/AF-Q6L1T2-F1-model_v4.pdb', 'PDB str/AF-P69411-F1-model_v4.pdb', 'PDB str/AF-P62141-F1-model_v4.pdb', 'PDB str/AF-Q9NVR0-F1-model_v4.pdb', 'PDB str/AF-Q15788-F1-model_v4.pdb', 'PDB str/AF-P45880-F1-model_v4.pdb', 'PDB str/AF-Q9D162-F1-model_v4.pdb', 'PDB str/AF-P10586-F1-model_v4.pdb', 'PDB str/AF-Q8R0J4-F1-model_v4.pdb', 'PDB str/AF-P51148-F1-model_v4.pdb', 'PDB str/AF-Q5T160-F1-model_v4.pdb', 'PDB str/AF-Q9HD26-F1-model_v4.pdb', 'PDB str/AF-Q5SKY3-F1-model_v4.pdb', 'PDB str/AF-Q5SHH9-F1-model_v4.pdb', 'PDB str/AF-Q5SLR3-F1-model_v4.pdb', 'PDB str/AF-Q5SLF5-F1-model_v4.pdb', 'PDB str/AF-Q5SJY7-F1-model_v4.pdb', 'PDB str/AF-Q5SJQ7-F1-model_v4.pdb', 'PDB str/AF-Q5SHQ7-F1-model_v4.pdb', 'PDB str/AF-Q53VU6-F1-model_v4.pdb', 'PDB str/AF-Q5SJG0-F1-model_v4.pdb', 'PDB str/AF-P27000-F1-model_v4.pdb', 'PDB str/AF-Q72JL7-F1-model_v4.pdb', 'PDB str/AF-Q72HD8-F1-model_v4.pdb', 'PDB str/AF-Q72JY2-F1-model_v4.pdb', 'PDB str/AF-Q746D7-F1-model_v4.pdb', 'PDB str/AF-Q72JS8-F1-model_v4.pdb', 'PDB str/AF-Q72IP9-F1-model_v4.pdb', 'PDB str/AF-Q746N7-F1-model_v4.pdb', 'PDB str/AF-Q72JR6-F1-model_v4.pdb', 'PDB str/AF-Q72JU8-F1-model_v4.pdb', 'PDB str/AF-Q745X5-F1-model_v4.pdb', 'PDB str/AF-Q72LC9-F1-model_v4.pdb', 'PDB str/AF-Q84B23-F1-model_v4.pdb', 'PDB str/AF-Q72KE1-F1-model_v4.pdb', 'PDB str/AF-Q72H85-F1-model_v4.pdb', 'PDB str/AF-Q72LL1-F1-model_v4.pdb', 'PDB str/AF-Q746H3-F1-model_v4.pdb', 'PDB str/AF-Q72I74-F1-model_v4.pdb', 'PDB str/AF-Q72IA8-F1-model_v4.pdb', 'PDB str/AF-Q72LB1-F1-model_v4.pdb', 'PDB str/AF-Q72JN9-F1-model_v4.pdb', 'PDB str/AF-Q72K86-F1-model_v4.pdb', 'PDB str/AF-Q72KB2-F1-model_v4.pdb', 'PDB str/AF-Q72HB6-F1-model_v4.pdb', 'PDB str/AF-Q72JG7-F1-model_v4.pdb', 'PDB str/AF-Q72HU7-F1-model_v4.pdb', 'PDB str/AF-Q72JB4-F1-model_v4.pdb', 'PDB str/AF-Q72GA6-F1-model_v4.pdb', 'PDB str/AF-Q72HM6-F1-model_v4.pdb', 'PDB str/AF-Q72K33-F1-model_v4.pdb', 'PDB str/AF-Q72J93-F1-model_v4.pdb', 'PDB str/AF-Q72HU2-F1-model_v4.pdb', 'PDB str/AF-Q72HI6-F1-model_v4.pdb', 'PDB str/AF-Q72L90-F1-model_v4.pdb', 'PDB str/AF-Q8VRL7-F1-model_v4.pdb', 'PDB str/AF-Q72J16-F1-model_v4.pdb', 'PDB str/AF-Q5SM00-F1-model_v4.pdb', 'PDB str/AF-Q5SM81-F1-model_v4.pdb', 'PDB str/AF-Q72JG4-F1-model_v4.pdb', 'PDB str/AF-Q5SK53-F1-model_v4.pdb', 'PDB str/AF-Q5SK84-F1-model_v4.pdb', 'PDB str/AF-Q72I01-F1-model_v4.pdb', 'PDB str/AF-Q8GR83-F1-model_v4.pdb', 'PDB str/AF-Q72IA9-F1-model_v4.pdb', 'PDB str/AF-Q5SLC3-F1-model_v4.pdb', 'PDB str/AF-Q72IV4-F1-model_v4.pdb', 'PDB str/AF-Q5SHN3-F1-model_v4.pdb', 'PDB str/AF-Q5SJF2-F1-model_v4.pdb', 'PDB str/AF-Q5SKR7-F1-model_v4.pdb', 'PDB str/AF-Q5SJ30-F1-model_v4.pdb', 'PDB str/AF-Q5SHY5-F1-model_v4.pdb', 'PDB str/AF-Q5SIV7-F1-model_v4.pdb', 'PDB str/AF-Q5SI61-F1-model_v4.pdb', 'PDB str/AF-Q5SIW2-F1-model_v4.pdb', 'PDB str/AF-Q5SHU1-F1-model_v4.pdb', 'PDB str/AF-Q53W40-F1-model_v4.pdb', 'PDB str/AF-Q6KZP1-F1-model_v4.pdb', 'PDB str/AF-Q56403-F1-model_v4.pdb', 'PDB str/AF-Q6L2E2-F1-model_v4.pdb', 'PDB str/AF-Q6L270-F1-model_v4.pdb', 'PDB str/AF-Q53VV1-F1-model_v4.pdb', 'PDB str/AF-Q72GM4-F1-model_v4.pdb', 'PDB str/AF-Q6KZ44-F1-model_v4.pdb', 'PDB str/AF-Q6L079-F1-model_v4.pdb', 'PDB str/AF-P56690-F1-model_v4.pdb', 'PDB str/AF-Q72IV2-F1-model_v4.pdb', 'PDB str/AF-Q72KB8-F1-model_v4.pdb', 'PDB str/AF-P62453-F1-model_v4.pdb', 'PDB str/AF-Q72LJ6-F1-model_v4.pdb', 'PDB str/AF-Q72KJ6-F1-model_v4.pdb', 'PDB str/AF-Q72KN7-F1-model_v4.pdb', 'PDB str/AF-Q746M9-F1-model_v4.pdb', 'PDB str/AF-Q72GU1-F1-model_v4.pdb', 'PDB str/AF-Q746P6-F1-model_v4.pdb', 'PDB str/AF-Q72GA4-F1-model_v4.pdb', 'PDB str/AF-Q72IP2-F1-model_v4.pdb', 'PDB str/AF-Q72KW3-F1-model_v4.pdb', 'PDB str/AF-Q9F0S9-F1-model_v4.pdb', 'PDB str/AF-Q72G96-F1-model_v4.pdb', 'PDB str/AF-Q72HA4-F1-model_v4.pdb', 'PDB str/AF-Q72I62-F1-model_v4.pdb', 'PDB str/AF-Q72KR9-F1-model_v4.pdb', 'PDB str/AF-Q746H8-F1-model_v4.pdb', 'PDB str/AF-Q72KX0-F1-model_v4.pdb', 'PDB str/AF-O87197-F1-model_v4.pdb', 'PDB str/AF-Q72KR3-F1-model_v4.pdb', 'PDB str/AF-Q72K70-F1-model_v4.pdb', 'PDB str/AF-Q72IE0-F1-model_v4.pdb', 'PDB str/AF-Q5SJN7-F1-model_v4.pdb', 'PDB str/AF-Q5SM60-F1-model_v4.pdb', 'PDB str/AF-Q5SLK3-F1-model_v4.pdb', 'PDB str/AF-Q5SMD7-F1-model_v4.pdb', 'PDB str/AF-Q5SLE0-F1-model_v4.pdb', 'PDB str/AF-Q5SKC4-F1-model_v4.pdb', 'PDB str/AF-Q5SL21-F1-model_v4.pdb', 'PDB str/AF-Q5SIT2-F1-model_v4.pdb', 'PDB str/AF-P05379-F1-model_v4.pdb', 'PDB str/AF-Q5SJG8-F1-model_v4.pdb', 'PDB str/AF-Q5SH83-F1-model_v4.pdb', 'PDB str/AF-Q5SH77-F1-model_v4.pdb', 'PDB str/AF-Q5SH14-F1-model_v4.pdb', 'PDB str/AF-Q6L1J7-F1-model_v4.pdb', 'PDB str/AF-Q53WD8-F1-model_v4.pdb', 'PDB str/AF-Q56425-F1-model_v4.pdb', 'PDB str/AF-P56194-F1-model_v4.pdb', 'PDB str/AF-Q6L209-F1-model_v4.pdb', 'PDB str/AF-Q6L2V6-F1-model_v4.pdb', 'PDB str/AF-Q6L1A4-F1-model_v4.pdb', 'PDB str/AF-Q6L2V9-F1-model_v4.pdb', 'PDB str/AF-Q6L254-F1-model_v4.pdb', 'PDB str/AF-Q6L0F9-F1-model_v4.pdb', 'PDB str/AF-Q6L164-F1-model_v4.pdb', 'PDB str/AF-Q6KZL8-F1-model_v4.pdb', 'PDB str/AF-Q6L2I3-F1-model_v4.pdb', 'PDB str/AF-Q6L1R4-F1-model_v4.pdb', 'PDB str/AF-Q6L1H1-F1-model_v4.pdb', 'PDB str/AF-Q72LF8-F1-model_v4.pdb', 'PDB str/AF-Q72K32-F1-model_v4.pdb', 'PDB str/AF-Q72IC7-F1-model_v4.pdb', 'PDB str/AF-Q72GD3-F1-model_v4.pdb', 'PDB str/AF-Q72IC8-F1-model_v4.pdb', 'PDB str/AF-Q72LA0-F1-model_v4.pdb', 'PDB str/AF-Q72IB8-F1-model_v4.pdb', 'PDB str/AF-Q72L56-F1-model_v4.pdb', 'PDB str/AF-Q9BXJ9-F1-model_v4.pdb', 'PDB str/AF-Q72HT7-F1-model_v4.pdb', 'PDB str/AF-Q15019-F1-model_v4.pdb', 'PDB str/AF-Q7L0Y3-F1-model_v4.pdb', 'PDB str/AF-Q72HA7-F1-model_v4.pdb', 'PDB str/AF-Q9BXJ9-F1-model_v4 (1).pdb', 'PDB str/AF-Q72IH8-F1-model_v4.pdb', 'PDB str/AF-Q72LH3-F1-model_v4.pdb', 'PDB str/AF-P14174-F1-model_v4.pdb', 'PDB str/AF-D6RDJ1-F1-model_v4.pdb', 'PDB str/AF-Q5SLZ5-F1-model_v4.pdb', 'PDB str/AF-O94906-F1-model_v4.pdb', 'PDB str/AF-P22033-F1-model_v4.pdb', 'PDB str/AF-P53999-F1-model_v4.pdb', 'PDB str/AF-P0A6Q3-F1-model_v4.pdb', 'PDB str/AF-P0A817-F1-model_v4.pdb', 'PDB str/AF-O14744-F1-model_v4.pdb', 'PDB str/AF-Q5SKV2-F1-model_v4.pdb', 'PDB str/AF-B1AJY7-F1-model_v4.pdb', 'PDB str/AF-Q5SLX5-F1-model_v4.pdb', 'PDB str/AF-P42620-F1-model_v4.pdb', 'PDB str/AF-P10795-F1-model_v4.pdb', 'PDB str/AF-P11717-F1-model_v4.pdb', 'PDB str/AF-Q9FKA0-F1-model_v4.pdb', 'PDB str/AF-Q9LUH8-F1-model_v4.pdb', 'PDB str/AF-Q9UNN8-F1-model_v4.pdb', 'PDB str/AF-P65292-F1-model_v4.pdb', 'PDB str/AF-P32177-F1-model_v4.pdb', 'PDB str/AF-P09622-F1-model_v4.pdb', 'PDB str/AF-E9PZF0-F1-model_v4.pdb', 'PDB str/AF-P75691-F1-model_v4.pdb', 'PDB str/AF-F6TFF2-F1-model_v4.pdb', 'PDB str/AF-Q3UBY5-F1-model_v4.pdb', 'PDB str/AF-Q6L2M4-F1-model_v4.pdb', 'PDB str/AF-Q6L0Y7-F1-model_v4.pdb', 'PDB str/AF-Q6L1K5-F1-model_v4.pdb', 'PDB str/AF-J3QTM1-F1-model_v4.pdb', 'PDB str/AF-Q6L0V3-F1-model_v4.pdb', 'PDB str/AF-Q6L0D1-F1-model_v4.pdb', 'PDB str/AF-P63000-F1-model_v4.pdb', 'PDB str/AF-Q6L1D6-F1-model_v4.pdb', 'PDB str/AF-P46459-F1-model_v4.pdb', 'PDB str/AF-Q6KZU1-F1-model_v4.pdb', 'PDB str/AF-Q6KZT9-F1-model_v4.pdb', 'PDB str/AF-Q6L131-F1-model_v4.pdb', 'PDB str/AF-P0AG51-F1-model_v4.pdb', 'PDB str/AF-R4YPW6-F1-model_v4.pdb', 'PDB str/AF-Q05825-F1-model_v4.pdb', 'PDB str/AF-Q6AXL0-F1-model_v4.pdb', 'PDB str/AF-O01905-F1-model_v4.pdb', 'PDB str/AF-Q6L1B4-F1-model_v4.pdb', 'PDB str/AF-Q6PFT1-F1-model_v4.pdb', 'PDB str/AF-P39958-F1-model_v4.pdb', 'PDB str/AF-Q6IMW9-F1-model_v4.pdb', 'PDB str/AF-F1Q8A5-F1-model_v4.pdb', 'PDB str/AF-G3V5V7-F1-model_v4.pdb', 'PDB str/AF-P42844-F1-model_v4.pdb', 'PDB str/AF-Q9BRX9-F1-model_v4.pdb', 'PDB str/AF-P43609-F1-model_v4.pdb', 'PDB str/AF-P49954-F1-model_v4.pdb', 'PDB str/AF-Q4KMD0-F1-model_v4.pdb', 'PDB str/AF-Q9H8H0-F1-model_v4.pdb', 'PDB str/AF-Q8BIQ5-F1-model_v4.pdb', 'PDB str/AF-K7ENR6-F1-model_v4.pdb', 'PDB str/AF-Q03012-F1-model_v4.pdb', 'PDB str/AF-Q8W4I9-F1-model_v4.pdb', 'PDB str/AF-Q9Y2I8-F1-model_v4.pdb', 'PDB str/AF-Q544Q7-F1-model_v4.pdb', 'PDB str/AF-Q60FD1-F1-model_v4.pdb', 'PDB str/AF-Q9D6K9-F1-model_v4.pdb', 'PDB str/AF-Q5TZA2-F1-model_v4.pdb', 'PDB str/AF-P35813-F1-model_v4.pdb', 'PDB str/AF-E7EUI8-F1-model_v4.pdb', 'PDB str/AF-Q9D938-F1-model_v4.pdb', 'PDB str/AF-Q9Y6J9-F1-model_v4.pdb', 'PDB str/AF-Q61753-F1-model_v4.pdb', 'PDB str/AF-P0A6J3-F1-model_v4.pdb', 'PDB str/AF-Q6XZF7-F1-model_v4.pdb', 'PDB str/AF-Q8BYB9-F1-model_v4.pdb', 'PDB str/AF-Q9H0K1-F1-model_v4.pdb', 'PDB str/AF-Q9CQF6-F1-model_v4.pdb', 'PDB str/AF-Q9BYM8-F1-model_v4.pdb', 'PDB str/AF-P0AAN3-F1-model_v4.pdb', 'PDB str/AF-B9EKL6-F1-model_v4.pdb', 'PDB str/AF-P0ACR9-F1-model_v4.pdb', 'PDB str/AF-P0ACY3-F1-model_v4.pdb', 'PDB str/AF-P0A6Y1-F1-model_v4.pdb', 'PDB str/AF-P0A8F0-F1-model_v4.pdb', 'PDB str/AF-P40818-F1-model_v4.pdb', 'PDB str/AF-P0A8A0-F1-model_v4.pdb', 'PDB str/AF-Q21215-F1-model_v4.pdb', 'PDB str/AF-R4YKD1-F1-model_v4.pdb', 'PDB str/AF-R4YPU7-F1-model_v4.pdb', 'PDB str/AF-Q19230-F1-model_v4.pdb', 'PDB str/AF-Q9S7H1-F1-model_v4.pdb', 'PDB str/AF-Q8WTM6-F1-model_v4.pdb', 'PDB str/AF-O04316-F1-model_v4.pdb', 'PDB str/AF-P34630-F1-model_v4.pdb', 'PDB str/AF-Q6NZB1-F1-model_v4.pdb', 'PDB str/AF-Q9FWA3-F1-model_v4.pdb', 'PDB str/AF-O49299-F1-model_v4.pdb', 'PDB str/AF-Q9GYP1-F1-model_v4.pdb', 'PDB str/AF-D9UBX6-F1-model_v4.pdb', 'PDB str/AF-Q9VH39-F1-model_v4.pdb', 'PDB str/AF-Q9VPD5-F1-model_v4.pdb', 'PDB str/AF-Q9VP05-F1-model_v4.pdb', 'PDB str/AF-Q9VD26-F1-model_v4.pdb', 'PDB str/AF-Q8LB17-F1-model_v4.pdb', 'PDB str/AF-Q9VDD7-F1-model_v4.pdb', 'PDB str/AF-Q9LYB4-F1-model_v4.pdb', 'PDB str/AF-P06168-F1-model_v4.pdb', 'PDB str/AF-Q9VXK6-F1-model_v4.pdb', 'PDB str/AF-Q90ZC5-F1-model_v4.pdb', 'PDB str/AF-P07259-F1-model_v4.pdb', 'PDB str/AF-O77263-F1-model_v4.pdb', 'PDB str/AF-O05519-F1-model_v4.pdb', 'PDB str/AF-O97067-F1-model_v4.pdb', 'PDB str/AF-P40693-F1-model_v4.pdb', 'PDB str/AF-P91875-F1-model_v4.pdb', 'PDB str/AF-Q8BHC7-F1-model_v4.pdb', 'PDB str/AF-Q8VHN8-F1-model_v4.pdb', 'PDB str/AF-P05652-F1-model_v4.pdb', 'PDB str/AF-P53043-F1-model_v4.pdb', 'PDB str/AF-Q9H2M9-F1-model_v4.pdb', 'PDB str/AF-Q9JJR8-F1-model_v4.pdb', 'PDB str/AF-Q3TJ39-F1-model_v4.pdb', 'PDB str/AF-P0A9F3-F1-model_v4.pdb', 'PDB str/AF-P33920-F1-model_v4.pdb', 'PDB str/AF-Q5SSH8-F1-model_v4.pdb', 'PDB str/AF-P14081-F1-model_v4.pdb', 'PDB str/AF-A0A0R4J0D3-F1-model_v4.pdb', 'PDB str/AF-A8MYC1-F1-model_v4.pdb', 'PDB str/AF-G3X983-F1-model_v4.pdb', 'PDB str/AF-R4YMB5-F1-model_v4.pdb', 'PDB str/AF-P37626-F1-model_v4.pdb', 'PDB str/AF-P76291-F1-model_v4.pdb', 'PDB str/AF-R4YLL3-F1-model_v4.pdb', 'PDB str/AF-R4YQB9-F1-model_v4.pdb', 'PDB str/AF-R4YP97-F1-model_v4.pdb', 'PDB str/AF-R4YMA4-F1-model_v4.pdb', 'PDB str/AF-R4YUN3-F1-model_v4.pdb', 'PDB str/AF-R4YL90-F1-model_v4.pdb', 'PDB str/AF-R4YLB4-F1-model_v4.pdb', 'PDB str/AF-O01963-F1-model_v4.pdb', 'PDB str/AF-P34678-F1-model_v4.pdb', 'PDB str/AF-G5EE66-F1-model_v4.pdb', 'PDB str/AF-R4YM74-F1-model_v4.pdb', 'PDB str/AF-O16486-F1-model_v4.pdb', 'PDB str/AF-P34580-F1-model_v4.pdb', 'PDB str/AF-Q9GYM9-F1-model_v4.pdb', 'PDB str/AF-O45686-F1-model_v4.pdb', 'PDB str/AF-G5ECR1-F1-model_v4.pdb', 'PDB str/AF-Q9NEI6-F1-model_v4.pdb', 'PDB str/AF-Q18990-F1-model_v4.pdb', 'PDB str/AF-Q22875-F1-model_v4.pdb', 'PDB str/AF-Q94361-F1-model_v4.pdb', 'PDB str/AF-G5EFM9-F1-model_v4.pdb', 'PDB str/AF-Q18142-F1-model_v4.pdb', 'PDB str/AF-O76561-F1-model_v4.pdb', 'PDB str/AF-Q9U287-F1-model_v4.pdb', 'PDB str/AF-K8ESG0-F1-model_v4.pdb', 'PDB str/AF-H2KZY3-F1-model_v4.pdb', 'PDB str/AF-D1MN85-F1-model_v4.pdb', 'PDB str/AF-Q19371-F1-model_v4.pdb', 'PDB str/AF-O62214-F1-model_v4.pdb', 'PDB str/AF-Q9U1Q4-F1-model_v4.pdb', 'PDB str/AF-Q95Y73-F1-model_v4.pdb', 'PDB str/AF-O16297-F1-model_v4.pdb', 'PDB str/AF-P23686-F1-model_v4.pdb', 'PDB str/AF-G5EG62-F1-model_v4.pdb', 'PDB str/AF-Q5DX36-F1-model_v4.pdb', 'PDB str/AF-Q21902-F1-model_v4.pdb', 'PDB str/AF-Q86D20-F1-model_v4.pdb', 'PDB str/AF-A9Z1L6-F1-model_v4.pdb', 'PDB str/AF-Q18739-F1-model_v4.pdb', 'PDB str/AF-Q9VB25-F1-model_v4.pdb', 'PDB str/AF-P29513-F1-model_v4.pdb', 'PDB str/AF-Q19731-F1-model_v4.pdb', 'PDB str/AF-Q9VVU5-F1-model_v4.pdb', 'PDB str/AF-O80885-F1-model_v4.pdb', 'PDB str/AF-Q6A3Q2-F1-model_v4.pdb', 'PDB str/AF-Q9VUX2-F1-model_v4.pdb', 'PDB str/AF-P32748-F1-model_v4.pdb', 'PDB str/AF-O31634-F1-model_v4.pdb', 'PDB str/AF-Q07868-F1-model_v4.pdb']\n"
          ]
        }
      ]
    },
    {
      "cell_type": "code",
      "source": [
        "# Specify the directory where you want to extract the contents\n",
        "extraction_path = '/content/extracted_folder'\n",
        "\n",
        "# Create the extraction directory if it doesn't exist\n",
        "os.makedirs(extraction_path, exist_ok=True)\n",
        "\n",
        "# Unzip the file\n",
        "with zipfile.ZipFile(zip_file_path, 'r') as zip_ref:\n",
        "    zip_ref.extractall(extraction_path)\n",
        "\n",
        "# List all files in the extraction directory\n",
        "extracted_files = os.listdir(extraction_path)\n",
        "print(f\"Total extracted files: {len(extracted_files)}\")\n",
        "\n",
        "# List all extracted PDB files\n",
        "pdb_files = [f for f in extracted_files if f.endswith('.pdb')]\n",
        "print(f\"Extracted {len(pdb_files)} PDB files: {pdb_files}\")\n"
      ],
      "metadata": {
        "colab": {
          "base_uri": "https://localhost:8080/"
        },
        "id": "Rb_pzJuR3_TJ",
        "outputId": "8d60305e-6349-4aa9-ad32-f93cac030c94"
      },
      "execution_count": null,
      "outputs": [
        {
          "output_type": "stream",
          "name": "stdout",
          "text": [
            "Total extracted files: 1\n",
            "Extracted 0 PDB files: []\n"
          ]
        }
      ]
    },
    {
      "cell_type": "code",
      "source": [
        "import os\n",
        "\n",
        "# Function to extract files and handle subdirectories\n",
        "def extract_zip(zip_file_path, extraction_path):\n",
        "    with zipfile.ZipFile(zip_file_path, 'r') as zip_ref:\n",
        "        zip_ref.extractall(extraction_path)\n",
        "\n",
        "    extracted_files = []\n",
        "    for root, dirs, files in os.walk(extraction_path):\n",
        "        for file in files:\n",
        "            extracted_files.append(os.path.join(root, file))\n",
        "\n",
        "    return extracted_files\n",
        "\n",
        "# Extract files\n",
        "extracted_files = extract_zip(zip_file_path, extraction_path)\n",
        "print(f\"Total extracted files: {len(extracted_files)}\")\n",
        "\n",
        "# Filter out PDB files\n",
        "pdb_files = [f for f in extracted_files if f.endswith('.pdb')]\n",
        "print(f\"Extracted {len(pdb_files)} PDB files: {pdb_files}\")\n"
      ],
      "metadata": {
        "colab": {
          "base_uri": "https://localhost:8080/"
        },
        "id": "GA3b0PB44FjY",
        "outputId": "013c132c-b59c-42c0-a7cb-da6283f9405b"
      },
      "execution_count": null,
      "outputs": [
        {
          "output_type": "stream",
          "name": "stdout",
          "text": [
            "Total extracted files: 349\n",
            "Extracted 349 PDB files: ['/content/extracted_folder/PDB str/AF-Q72JG4-F1-model_v4.pdb', '/content/extracted_folder/PDB str/AF-Q72HI6-F1-model_v4.pdb', '/content/extracted_folder/PDB str/AF-P22033-F1-model_v4.pdb', '/content/extracted_folder/PDB str/AF-Q72I74-F1-model_v4.pdb', '/content/extracted_folder/PDB str/AF-Q5SLZ5-F1-model_v4.pdb', '/content/extracted_folder/PDB str/AF-O04316-F1-model_v4.pdb', '/content/extracted_folder/PDB str/AF-Q6L0F9-F1-model_v4.pdb', '/content/extracted_folder/PDB str/AF-Q9VUX2-F1-model_v4.pdb', '/content/extracted_folder/PDB str/AF-O94906-F1-model_v4.pdb', '/content/extracted_folder/PDB str/AF-P42844-F1-model_v4.pdb', '/content/extracted_folder/PDB str/AF-Q15788-F1-model_v4.pdb', '/content/extracted_folder/PDB str/AF-Q6KZT5-F1-model_v4.pdb', '/content/extracted_folder/PDB str/AF-Q6KZT9-F1-model_v4.pdb', '/content/extracted_folder/PDB str/AF-G3V5V7-F1-model_v4.pdb', '/content/extracted_folder/PDB str/AF-Q72J16-F1-model_v4.pdb', '/content/extracted_folder/PDB str/AF-P0A817-F1-model_v4.pdb', '/content/extracted_folder/PDB str/AF-Q5SHN3-F1-model_v4.pdb', '/content/extracted_folder/PDB str/AF-Q72L90-F1-model_v4.pdb', '/content/extracted_folder/PDB str/AF-Q8GR83-F1-model_v4.pdb', '/content/extracted_folder/PDB str/AF-Q5SL21-F1-model_v4.pdb', '/content/extracted_folder/PDB str/AF-O77263-F1-model_v4.pdb', '/content/extracted_folder/PDB str/AF-R4YMA4-F1-model_v4.pdb', '/content/extracted_folder/PDB str/AF-O16486-F1-model_v4.pdb', '/content/extracted_folder/PDB str/AF-Q72HX7-F1-model_v4.pdb', '/content/extracted_folder/PDB str/AF-G5EE66-F1-model_v4.pdb', '/content/extracted_folder/PDB str/AF-Q9H2M9-F1-model_v4.pdb', '/content/extracted_folder/PDB str/AF-J3QTM1-F1-model_v4.pdb', '/content/extracted_folder/PDB str/AF-Q6L0B8-F1-model_v4.pdb', '/content/extracted_folder/PDB str/AF-Q72K33-F1-model_v4.pdb', '/content/extracted_folder/PDB str/AF-Q5SM60-F1-model_v4.pdb', '/content/extracted_folder/PDB str/AF-Q6KZU1-F1-model_v4.pdb', '/content/extracted_folder/PDB str/AF-P32177-F1-model_v4.pdb', '/content/extracted_folder/PDB str/AF-D6RDJ1-F1-model_v4.pdb', '/content/extracted_folder/PDB str/AF-Q9CQF6-F1-model_v4.pdb', '/content/extracted_folder/PDB str/AF-G3X983-F1-model_v4.pdb', '/content/extracted_folder/PDB str/AF-Q72HM6-F1-model_v4.pdb', '/content/extracted_folder/PDB str/AF-Q5SJ47-F1-model_v4.pdb', '/content/extracted_folder/PDB str/AF-Q9BRX9-F1-model_v4.pdb', '/content/extracted_folder/PDB str/AF-Q9FKA0-F1-model_v4.pdb', '/content/extracted_folder/PDB str/AF-Q9LUH8-F1-model_v4.pdb', '/content/extracted_folder/PDB str/AF-Q90ZC5-F1-model_v4.pdb', '/content/extracted_folder/PDB str/AF-P27000-F1-model_v4.pdb', '/content/extracted_folder/PDB str/AF-Q5SM00-F1-model_v4.pdb', '/content/extracted_folder/PDB str/AF-P35813-F1-model_v4.pdb', '/content/extracted_folder/PDB str/AF-Q6L0B7-F1-model_v4.pdb', '/content/extracted_folder/PDB str/AF-Q18739-F1-model_v4.pdb', '/content/extracted_folder/PDB str/AF-Q19371-F1-model_v4.pdb', '/content/extracted_folder/PDB str/AF-Q6L0V3-F1-model_v4.pdb', '/content/extracted_folder/PDB str/AF-Q4KMD0-F1-model_v4.pdb', '/content/extracted_folder/PDB str/AF-Q6L1K5-F1-model_v4.pdb', '/content/extracted_folder/PDB str/AF-Q72GM4-F1-model_v4.pdb', '/content/extracted_folder/PDB str/AF-Q72LA0-F1-model_v4.pdb', '/content/extracted_folder/PDB str/AF-P05652-F1-model_v4.pdb', '/content/extracted_folder/PDB str/AF-Q72LH3-F1-model_v4.pdb', '/content/extracted_folder/PDB str/AF-R4YMB5-F1-model_v4.pdb', '/content/extracted_folder/PDB str/AF-P32748-F1-model_v4.pdb', '/content/extracted_folder/PDB str/AF-Q22875-F1-model_v4.pdb', '/content/extracted_folder/PDB str/AF-Q5T160-F1-model_v4.pdb', '/content/extracted_folder/PDB str/AF-Q72IV2-F1-model_v4.pdb', '/content/extracted_folder/PDB str/AF-Q72LB1-F1-model_v4.pdb', '/content/extracted_folder/PDB str/AF-F6TFF2-F1-model_v4.pdb', '/content/extracted_folder/PDB str/AF-Q19230-F1-model_v4.pdb', '/content/extracted_folder/PDB str/AF-Q746D7-F1-model_v4.pdb', '/content/extracted_folder/PDB str/AF-Q9UNN8-F1-model_v4.pdb', '/content/extracted_folder/PDB str/AF-P91875-F1-model_v4.pdb', '/content/extracted_folder/PDB str/AF-Q6NZB1-F1-model_v4.pdb', '/content/extracted_folder/PDB str/AF-Q72JS8-F1-model_v4.pdb', '/content/extracted_folder/PDB str/AF-Q9GYM9-F1-model_v4.pdb', '/content/extracted_folder/PDB str/AF-P75691-F1-model_v4.pdb', '/content/extracted_folder/PDB str/AF-Q9U287-F1-model_v4.pdb', '/content/extracted_folder/PDB str/AF-Q6IMW9-F1-model_v4.pdb', '/content/extracted_folder/PDB str/AF-Q56425-F1-model_v4.pdb', '/content/extracted_folder/PDB str/AF-Q53W40-F1-model_v4.pdb', '/content/extracted_folder/PDB str/AF-Q72LJ6-F1-model_v4.pdb', '/content/extracted_folder/PDB str/AF-Q6L2V6-F1-model_v4.pdb', '/content/extracted_folder/PDB str/AF-Q9NVR0-F1-model_v4.pdb', '/content/extracted_folder/PDB str/AF-Q5SH77-F1-model_v4.pdb', '/content/extracted_folder/PDB str/AF-Q72GA4-F1-model_v4.pdb', '/content/extracted_folder/PDB str/AF-Q18990-F1-model_v4.pdb', '/content/extracted_folder/PDB str/AF-Q6L2V9-F1-model_v4.pdb', '/content/extracted_folder/PDB str/AF-P0ACY3-F1-model_v4.pdb', '/content/extracted_folder/PDB str/AF-Q9LYB4-F1-model_v4.pdb', '/content/extracted_folder/PDB str/AF-Q72GK7-F1-model_v4.pdb', '/content/extracted_folder/PDB str/AF-P51148-F1-model_v4.pdb', '/content/extracted_folder/PDB str/AF-D9UBX6-F1-model_v4.pdb', '/content/extracted_folder/PDB str/AF-Q72I01-F1-model_v4.pdb', '/content/extracted_folder/PDB str/AF-Q9BXJ9-F1-model_v4.pdb', '/content/extracted_folder/PDB str/AF-Q5SM81-F1-model_v4.pdb', '/content/extracted_folder/PDB str/AF-E7EUI8-F1-model_v4.pdb', '/content/extracted_folder/PDB str/AF-P0A8F0-F1-model_v4.pdb', '/content/extracted_folder/PDB str/AF-Q8W4I9-F1-model_v4.pdb', '/content/extracted_folder/PDB str/AF-Q5SKY3-F1-model_v4.pdb', '/content/extracted_folder/PDB str/AF-Q5SSH8-F1-model_v4.pdb', '/content/extracted_folder/PDB str/AF-Q72KE1-F1-model_v4.pdb', '/content/extracted_folder/PDB str/AF-Q8BHC7-F1-model_v4.pdb', '/content/extracted_folder/PDB str/AF-P63000-F1-model_v4.pdb', '/content/extracted_folder/PDB str/AF-Q72IP2-F1-model_v4.pdb', '/content/extracted_folder/PDB str/AF-Q9Y6J9-F1-model_v4.pdb', '/content/extracted_folder/PDB str/AF-R4YQB9-F1-model_v4.pdb', '/content/extracted_folder/PDB str/AF-Q6L1D6-F1-model_v4.pdb', '/content/extracted_folder/PDB str/AF-R4YKD1-F1-model_v4.pdb', '/content/extracted_folder/PDB str/AF-Q60FD1-F1-model_v4.pdb', '/content/extracted_folder/PDB str/AF-Q5SLX5-F1-model_v4.pdb', '/content/extracted_folder/PDB str/AF-P34678-F1-model_v4.pdb', '/content/extracted_folder/PDB str/AF-P0AFW8-F1-model_v4.pdb', '/content/extracted_folder/PDB str/AF-Q15019-F1-model_v4.pdb', '/content/extracted_folder/PDB str/AF-P29513-F1-model_v4.pdb', '/content/extracted_folder/PDB str/AF-P10795-F1-model_v4.pdb', '/content/extracted_folder/PDB str/AF-Q72GA6-F1-model_v4.pdb', '/content/extracted_folder/PDB str/AF-Q5SIV7-F1-model_v4.pdb', '/content/extracted_folder/PDB str/AF-P56194-F1-model_v4.pdb', '/content/extracted_folder/PDB str/AF-Q72IV4-F1-model_v4.pdb', '/content/extracted_folder/PDB str/AF-Q72HA7-F1-model_v4.pdb', '/content/extracted_folder/PDB str/AF-Q6PFT1-F1-model_v4.pdb', '/content/extracted_folder/PDB str/AF-Q72LF8-F1-model_v4.pdb', '/content/extracted_folder/PDB str/AF-O45686-F1-model_v4.pdb', '/content/extracted_folder/PDB str/AF-O87197-F1-model_v4.pdb', '/content/extracted_folder/PDB str/AF-Q9JJR8-F1-model_v4.pdb', '/content/extracted_folder/PDB str/AF-Q5SKV2-F1-model_v4.pdb', '/content/extracted_folder/PDB str/AF-P46459-F1-model_v4.pdb', '/content/extracted_folder/PDB str/AF-Q5DX36-F1-model_v4.pdb', '/content/extracted_folder/PDB str/AF-Q72HU2-F1-model_v4.pdb', '/content/extracted_folder/PDB str/AF-Q5SHQ7-F1-model_v4.pdb', '/content/extracted_folder/PDB str/AF-Q7L0Y3-F1-model_v4.pdb', '/content/extracted_folder/PDB str/AF-R4YPW6-F1-model_v4.pdb', '/content/extracted_folder/PDB str/AF-P76291-F1-model_v4.pdb', '/content/extracted_folder/PDB str/AF-Q72JY2-F1-model_v4.pdb', '/content/extracted_folder/PDB str/AF-O14744-F1-model_v4.pdb', '/content/extracted_folder/PDB str/AF-Q72KB2-F1-model_v4.pdb', '/content/extracted_folder/PDB str/AF-Q6KZL8-F1-model_v4.pdb', '/content/extracted_folder/PDB str/AF-Q5SLF5-F1-model_v4.pdb', '/content/extracted_folder/PDB str/AF-O49299-F1-model_v4.pdb', '/content/extracted_folder/PDB str/AF-Q5SJY7-F1-model_v4.pdb', '/content/extracted_folder/PDB str/AF-P0A6Y1-F1-model_v4.pdb', '/content/extracted_folder/PDB str/AF-P69411-F1-model_v4.pdb', '/content/extracted_folder/PDB str/AF-Q6L021-F1-model_v4.pdb', '/content/extracted_folder/PDB str/AF-Q8R0J4-F1-model_v4.pdb', '/content/extracted_folder/PDB str/AF-Q72G96-F1-model_v4.pdb', '/content/extracted_folder/PDB str/AF-P14081-F1-model_v4.pdb', '/content/extracted_folder/PDB str/AF-Q21902-F1-model_v4.pdb', '/content/extracted_folder/PDB str/AF-Q5SK53-F1-model_v4.pdb', '/content/extracted_folder/PDB str/AF-Q6KZ44-F1-model_v4.pdb', '/content/extracted_folder/PDB str/AF-Q86D20-F1-model_v4.pdb', '/content/extracted_folder/PDB str/AF-Q9VH39-F1-model_v4.pdb', '/content/extracted_folder/PDB str/AF-R4YLL3-F1-model_v4.pdb', '/content/extracted_folder/PDB str/AF-Q6KZP1-F1-model_v4.pdb', '/content/extracted_folder/PDB str/AF-Q9F0S9-F1-model_v4.pdb', '/content/extracted_folder/PDB str/AF-Q5TZA2-F1-model_v4.pdb', '/content/extracted_folder/PDB str/AF-Q5SIT2-F1-model_v4.pdb', '/content/extracted_folder/PDB str/AF-K8ESG0-F1-model_v4.pdb', '/content/extracted_folder/PDB str/AF-Q05825-F1-model_v4.pdb', '/content/extracted_folder/PDB str/AF-Q72HB6-F1-model_v4.pdb', '/content/extracted_folder/PDB str/AF-P45880-F1-model_v4.pdb', '/content/extracted_folder/PDB str/AF-R4YUN3-F1-model_v4.pdb', '/content/extracted_folder/PDB str/AF-Q72GR3-F1-model_v4.pdb', '/content/extracted_folder/PDB str/AF-Q6A3Q2-F1-model_v4.pdb', '/content/extracted_folder/PDB str/AF-Q5SMD7-F1-model_v4.pdb', '/content/extracted_folder/PDB str/AF-Q746M9-F1-model_v4.pdb', '/content/extracted_folder/PDB str/AF-B1AJY7-F1-model_v4.pdb', '/content/extracted_folder/PDB str/AF-Q9H8H0-F1-model_v4.pdb', '/content/extracted_folder/PDB str/AF-Q9VXK6-F1-model_v4.pdb', '/content/extracted_folder/PDB str/AF-O97067-F1-model_v4.pdb', '/content/extracted_folder/PDB str/AF-Q6L0Y7-F1-model_v4.pdb', '/content/extracted_folder/PDB str/AF-Q72HU7-F1-model_v4.pdb', '/content/extracted_folder/PDB str/AF-P23686-F1-model_v4.pdb', '/content/extracted_folder/PDB str/AF-K7ENR6-F1-model_v4.pdb', '/content/extracted_folder/PDB str/AF-P34580-F1-model_v4.pdb', '/content/extracted_folder/PDB str/AF-Q72JR6-F1-model_v4.pdb', '/content/extracted_folder/PDB str/AF-Q9H0K1-F1-model_v4.pdb', '/content/extracted_folder/PDB str/AF-P0A6J3-F1-model_v4.pdb', '/content/extracted_folder/PDB str/AF-P53999-F1-model_v4.pdb', '/content/extracted_folder/PDB str/AF-P62141-F1-model_v4.pdb', '/content/extracted_folder/PDB str/AF-Q8VHN8-F1-model_v4.pdb', '/content/extracted_folder/PDB str/AF-O31634-F1-model_v4.pdb', '/content/extracted_folder/PDB str/AF-Q5SLC3-F1-model_v4.pdb', '/content/extracted_folder/PDB str/AF-P0A8A0-F1-model_v4.pdb', '/content/extracted_folder/PDB str/AF-P14174-F1-model_v4.pdb', '/content/extracted_folder/PDB str/AF-Q95Y73-F1-model_v4.pdb', '/content/extracted_folder/PDB str/AF-Q03012-F1-model_v4.pdb', '/content/extracted_folder/PDB str/AF-Q5SJN7-F1-model_v4.pdb', '/content/extracted_folder/PDB str/AF-Q72K32-F1-model_v4.pdb', '/content/extracted_folder/PDB str/AF-P61989-F1-model_v4.pdb', '/content/extracted_folder/PDB str/AF-P49954-F1-model_v4.pdb', '/content/extracted_folder/PDB str/AF-Q6L1R4-F1-model_v4.pdb', '/content/extracted_folder/PDB str/AF-Q9VDD7-F1-model_v4.pdb', '/content/extracted_folder/PDB str/AF-Q6L2E2-F1-model_v4.pdb', '/content/extracted_folder/PDB str/AF-Q72LL1-F1-model_v4.pdb', '/content/extracted_folder/PDB str/AF-Q6L0D1-F1-model_v4.pdb', '/content/extracted_folder/PDB str/AF-Q9Y2I8-F1-model_v4.pdb', '/content/extracted_folder/PDB str/AF-Q9VPD5-F1-model_v4.pdb', '/content/extracted_folder/PDB str/AF-Q72HD8-F1-model_v4.pdb', '/content/extracted_folder/PDB str/AF-O01963-F1-model_v4.pdb', '/content/extracted_folder/PDB str/AF-Q72IA9-F1-model_v4.pdb', '/content/extracted_folder/PDB str/AF-Q5SH14-F1-model_v4.pdb', '/content/extracted_folder/PDB str/AF-O05519-F1-model_v4.pdb', '/content/extracted_folder/PDB str/AF-Q9VD26-F1-model_v4.pdb', '/content/extracted_folder/PDB str/AF-Q6XZF7-F1-model_v4.pdb', '/content/extracted_folder/PDB str/AF-Q6L0H3-F1-model_v4.pdb', '/content/extracted_folder/PDB str/AF-Q72IC8-F1-model_v4.pdb', '/content/extracted_folder/PDB str/AF-Q8VRL7-F1-model_v4.pdb', '/content/extracted_folder/PDB str/AF-O62214-F1-model_v4.pdb', '/content/extracted_folder/PDB str/AF-G5EG62-F1-model_v4.pdb', '/content/extracted_folder/PDB str/AF-Q9BXJ9-F1-model_v4 (1).pdb', '/content/extracted_folder/PDB str/AF-Q5SI61-F1-model_v4.pdb', '/content/extracted_folder/PDB str/AF-Q5SJQ7-F1-model_v4.pdb', '/content/extracted_folder/PDB str/AF-P10586-F1-model_v4.pdb', '/content/extracted_folder/PDB str/AF-Q9NEI6-F1-model_v4.pdb', '/content/extracted_folder/PDB str/AF-Q3TJ39-F1-model_v4.pdb', '/content/extracted_folder/PDB str/AF-G5ECR1-F1-model_v4.pdb', '/content/extracted_folder/PDB str/AF-Q746H3-F1-model_v4.pdb', '/content/extracted_folder/PDB str/AF-P0AG51-F1-model_v4.pdb', '/content/extracted_folder/PDB str/AF-Q84B23-F1-model_v4.pdb', '/content/extracted_folder/PDB str/AF-Q5SKR7-F1-model_v4.pdb', '/content/extracted_folder/PDB str/AF-Q9BYM8-F1-model_v4.pdb', '/content/extracted_folder/PDB str/AF-P39958-F1-model_v4.pdb', '/content/extracted_folder/PDB str/AF-R4YLB4-F1-model_v4.pdb', '/content/extracted_folder/PDB str/AF-Q5SHY5-F1-model_v4.pdb', '/content/extracted_folder/PDB str/AF-Q746H8-F1-model_v4.pdb', '/content/extracted_folder/PDB str/AF-Q6L1B4-F1-model_v4.pdb', '/content/extracted_folder/PDB str/AF-Q5SLE0-F1-model_v4.pdb', '/content/extracted_folder/PDB str/AF-A8MYC1-F1-model_v4.pdb', '/content/extracted_folder/PDB str/AF-P40693-F1-model_v4.pdb', '/content/extracted_folder/PDB str/AF-Q9S7H1-F1-model_v4.pdb', '/content/extracted_folder/PDB str/AF-Q5SK84-F1-model_v4.pdb', '/content/extracted_folder/PDB str/AF-Q72KN7-F1-model_v4.pdb', '/content/extracted_folder/PDB str/AF-P43609-F1-model_v4.pdb', '/content/extracted_folder/PDB str/AF-P0AAN3-F1-model_v4.pdb', '/content/extracted_folder/PDB str/AF-Q9U1Q4-F1-model_v4.pdb', '/content/extracted_folder/PDB str/AF-A0A0R4J0D3-F1-model_v4.pdb', '/content/extracted_folder/PDB str/AF-Q72KX0-F1-model_v4.pdb', '/content/extracted_folder/PDB str/AF-Q5SH83-F1-model_v4.pdb', '/content/extracted_folder/PDB str/AF-Q5SIW2-F1-model_v4.pdb', '/content/extracted_folder/PDB str/AF-P05379-F1-model_v4.pdb', '/content/extracted_folder/PDB str/AF-Q9D162-F1-model_v4.pdb', '/content/extracted_folder/PDB str/AF-Q19731-F1-model_v4.pdb', '/content/extracted_folder/PDB str/AF-Q8WTM6-F1-model_v4.pdb', '/content/extracted_folder/PDB str/AF-Q6L2I3-F1-model_v4.pdb', '/content/extracted_folder/PDB str/AF-P0A6Q3-F1-model_v4.pdb', '/content/extracted_folder/PDB str/AF-Q72IP9-F1-model_v4.pdb', '/content/extracted_folder/PDB str/AF-Q72HT7-F1-model_v4.pdb', '/content/extracted_folder/PDB str/AF-Q3UBY5-F1-model_v4.pdb', '/content/extracted_folder/PDB str/AF-Q72IB8-F1-model_v4.pdb', '/content/extracted_folder/PDB str/AF-Q72GD3-F1-model_v4.pdb', '/content/extracted_folder/PDB str/AF-Q72IE0-F1-model_v4.pdb', '/content/extracted_folder/PDB str/AF-Q9HD26-F1-model_v4.pdb', '/content/extracted_folder/PDB str/AF-Q72GU1-F1-model_v4.pdb', '/content/extracted_folder/PDB str/AF-Q72I62-F1-model_v4.pdb', '/content/extracted_folder/PDB str/AF-Q9VB25-F1-model_v4.pdb', '/content/extracted_folder/PDB str/AF-Q53WF6-F1-model_v4.pdb', '/content/extracted_folder/PDB str/AF-P09622-F1-model_v4.pdb', '/content/extracted_folder/PDB str/AF-Q5SJ30-F1-model_v4.pdb', '/content/extracted_folder/PDB str/AF-Q6L2M4-F1-model_v4.pdb', '/content/extracted_folder/PDB str/AF-Q53VU6-F1-model_v4.pdb', '/content/extracted_folder/PDB str/AF-Q6L1A4-F1-model_v4.pdb', '/content/extracted_folder/PDB str/AF-Q6L1H1-F1-model_v4.pdb', '/content/extracted_folder/PDB str/AF-Q9FWA3-F1-model_v4.pdb', '/content/extracted_folder/PDB str/AF-Q72KR9-F1-model_v4.pdb', '/content/extracted_folder/PDB str/AF-Q72H85-F1-model_v4.pdb', '/content/extracted_folder/PDB str/AF-Q9VP05-F1-model_v4.pdb', '/content/extracted_folder/PDB str/AF-Q53VV1-F1-model_v4.pdb', '/content/extracted_folder/PDB str/AF-O76561-F1-model_v4.pdb', '/content/extracted_folder/PDB str/AF-Q18142-F1-model_v4.pdb', '/content/extracted_folder/PDB str/AF-P62453-F1-model_v4.pdb', '/content/extracted_folder/PDB str/AF-Q6L1C2-F1-model_v4.pdb', '/content/extracted_folder/PDB str/AF-Q72JG7-F1-model_v4.pdb', '/content/extracted_folder/PDB str/AF-Q6L270-F1-model_v4.pdb', '/content/extracted_folder/PDB str/AF-Q9VVU5-F1-model_v4.pdb', '/content/extracted_folder/PDB str/AF-P11717-F1-model_v4.pdb', '/content/extracted_folder/PDB str/AF-O01905-F1-model_v4.pdb', '/content/extracted_folder/PDB str/AF-P65292-F1-model_v4.pdb', '/content/extracted_folder/PDB str/AF-Q8N8S7-F1-model_v4.pdb', '/content/extracted_folder/PDB str/AF-Q72KJ6-F1-model_v4.pdb', '/content/extracted_folder/PDB str/AF-P0ACR9-F1-model_v4.pdb', '/content/extracted_folder/PDB str/AF-Q8BYB9-F1-model_v4.pdb', '/content/extracted_folder/PDB str/AF-Q72IX8-F1-model_v4.pdb', '/content/extracted_folder/PDB str/AF-Q6L254-F1-model_v4.pdb', '/content/extracted_folder/PDB str/AF-P0AEZ9-F1-model_v4.pdb', '/content/extracted_folder/PDB str/AF-Q72K70-F1-model_v4.pdb', '/content/extracted_folder/PDB str/AF-Q6L1J7-F1-model_v4.pdb', '/content/extracted_folder/PDB str/AF-Q72J93-F1-model_v4.pdb', '/content/extracted_folder/PDB str/AF-Q5SHH9-F1-model_v4.pdb', '/content/extracted_folder/PDB str/AF-Q8BIQ5-F1-model_v4.pdb', '/content/extracted_folder/PDB str/AF-R4YP97-F1-model_v4.pdb', '/content/extracted_folder/PDB str/AF-P56690-F1-model_v4.pdb', '/content/extracted_folder/PDB str/AF-Q9D938-F1-model_v4.pdb', '/content/extracted_folder/PDB str/AF-Q745X5-F1-model_v4.pdb', '/content/extracted_folder/PDB str/AF-Q72LC9-F1-model_v4.pdb', '/content/extracted_folder/PDB str/AF-Q72JU8-F1-model_v4.pdb', '/content/extracted_folder/PDB str/AF-P40818-F1-model_v4.pdb', '/content/extracted_folder/PDB str/AF-Q5SHF6-F1-model_v4.pdb', '/content/extracted_folder/PDB str/AF-F1Q8A5-F1-model_v4.pdb', '/content/extracted_folder/PDB str/AF-P34630-F1-model_v4.pdb', '/content/extracted_folder/PDB str/AF-Q72HA4-F1-model_v4.pdb', '/content/extracted_folder/PDB str/AF-Q72IC7-F1-model_v4.pdb', '/content/extracted_folder/PDB str/AF-B9EKL6-F1-model_v4.pdb', '/content/extracted_folder/PDB str/AF-Q746P6-F1-model_v4.pdb', '/content/extracted_folder/PDB str/AF-P53043-F1-model_v4.pdb', '/content/extracted_folder/PDB str/AF-Q5SKC4-F1-model_v4.pdb', '/content/extracted_folder/PDB str/AF-P07259-F1-model_v4.pdb', '/content/extracted_folder/PDB str/AF-R4YM74-F1-model_v4.pdb', '/content/extracted_folder/PDB str/AF-Q6L164-F1-model_v4.pdb', '/content/extracted_folder/PDB str/AF-Q21215-F1-model_v4.pdb', '/content/extracted_folder/PDB str/AF-O16297-F1-model_v4.pdb', '/content/extracted_folder/PDB str/AF-Q72JL7-F1-model_v4.pdb', '/content/extracted_folder/PDB str/AF-Q6L131-F1-model_v4.pdb', '/content/extracted_folder/PDB str/AF-E9PZF0-F1-model_v4.pdb', '/content/extracted_folder/PDB str/AF-Q53WD8-F1-model_v4.pdb', '/content/extracted_folder/PDB str/AF-Q5SM34-F1-model_v4.pdb', '/content/extracted_folder/PDB str/AF-O80885-F1-model_v4.pdb', '/content/extracted_folder/PDB str/AF-P0A9F3-F1-model_v4.pdb', '/content/extracted_folder/PDB str/AF-Q72JB4-F1-model_v4.pdb', '/content/extracted_folder/PDB str/AF-P33920-F1-model_v4.pdb', '/content/extracted_folder/PDB str/AF-Q72IA8-F1-model_v4.pdb', '/content/extracted_folder/PDB str/AF-D1MN85-F1-model_v4.pdb', '/content/extracted_folder/PDB str/AF-Q544Q7-F1-model_v4.pdb', '/content/extracted_folder/PDB str/AF-Q5SLR3-F1-model_v4.pdb', '/content/extracted_folder/PDB str/AF-Q72IH8-F1-model_v4.pdb', '/content/extracted_folder/PDB str/AF-Q5SJF2-F1-model_v4.pdb', '/content/extracted_folder/PDB str/AF-Q07868-F1-model_v4.pdb', '/content/extracted_folder/PDB str/AF-Q5SJG8-F1-model_v4.pdb', '/content/extracted_folder/PDB str/AF-Q9D6K9-F1-model_v4.pdb', '/content/extracted_folder/PDB str/AF-R4YPU7-F1-model_v4.pdb', '/content/extracted_folder/PDB str/AF-Q5SLK3-F1-model_v4.pdb', '/content/extracted_folder/PDB str/AF-P06168-F1-model_v4.pdb', '/content/extracted_folder/PDB str/AF-H2KZY3-F1-model_v4.pdb', '/content/extracted_folder/PDB str/AF-Q746N7-F1-model_v4.pdb', '/content/extracted_folder/PDB str/AF-Q6KYX9-F1-model_v4.pdb', '/content/extracted_folder/PDB str/AF-Q72KB8-F1-model_v4.pdb', '/content/extracted_folder/PDB str/AF-Q5SHU1-F1-model_v4.pdb', '/content/extracted_folder/PDB str/AF-G5EFM9-F1-model_v4.pdb', '/content/extracted_folder/PDB str/AF-Q56403-F1-model_v4.pdb', '/content/extracted_folder/PDB str/AF-R4YL90-F1-model_v4.pdb', '/content/extracted_folder/PDB str/AF-Q61753-F1-model_v4.pdb', '/content/extracted_folder/PDB str/AF-Q72K86-F1-model_v4.pdb', '/content/extracted_folder/PDB str/AF-Q6AXL0-F1-model_v4.pdb', '/content/extracted_folder/PDB str/AF-A9Z1L6-F1-model_v4.pdb', '/content/extracted_folder/PDB str/AF-Q72L56-F1-model_v4.pdb', '/content/extracted_folder/PDB str/AF-Q9GYP1-F1-model_v4.pdb', '/content/extracted_folder/PDB str/AF-Q8LB17-F1-model_v4.pdb', '/content/extracted_folder/PDB str/AF-Q6L079-F1-model_v4.pdb', '/content/extracted_folder/PDB str/AF-Q72KW3-F1-model_v4.pdb', '/content/extracted_folder/PDB str/AF-Q5SJG0-F1-model_v4.pdb', '/content/extracted_folder/PDB str/AF-P37626-F1-model_v4.pdb', '/content/extracted_folder/PDB str/AF-P42620-F1-model_v4.pdb', '/content/extracted_folder/PDB str/AF-Q72KR3-F1-model_v4.pdb', '/content/extracted_folder/PDB str/AF-Q6L209-F1-model_v4.pdb', '/content/extracted_folder/PDB str/AF-Q72JN9-F1-model_v4.pdb', '/content/extracted_folder/PDB str/AF-Q94361-F1-model_v4.pdb', '/content/extracted_folder/PDB str/AF-Q6L1T2-F1-model_v4.pdb']\n"
          ]
        }
      ]
    },
    {
      "cell_type": "code",
      "source": [
        "import subprocess\n",
        "\n",
        "# Define the MDP file for the MD simulation\n",
        "mdp_filename = 'md.mdp'\n",
        "\n",
        "# Create a basic md.mdp file for a short MD run\n",
        "with open(mdp_filename, 'w') as mdp_file:\n",
        "    mdp_file.write(\"\"\"\n",
        "integrator      = md\n",
        "nsteps          = 5000  ; short run\n",
        "dt              = 0.002\n",
        "nstxout         = 10\n",
        "nstvout         = 10\n",
        "nstenergy       = 10\n",
        "nstlog          = 10\n",
        "continuation    = no\n",
        "constraint_algorithm = lincs\n",
        "constraints     = all-bonds\n",
        "lincs_iter      = 1\n",
        "lincs_order     = 4\n",
        "ns_type         = grid\n",
        "nstlist         = 10\n",
        "rlist           = 1.0\n",
        "rcoulomb        = 1.0\n",
        "rvdw            = 1.0\n",
        "pbc             = xyz\n",
        "gen_vel         = yes\n",
        "gen_temp        = 300\n",
        "gen_seed        = 173529\n",
        "    \"\"\")\n",
        "\n",
        "# Prepare GROMACS input files\n",
        "for pdb_file in pdb_files:\n",
        "    pdb_path = os.path.join(extraction_path, pdb_file)\n",
        "    base_name = os.path.splitext(pdb_file)[0]\n",
        "    gro_file = f\"{base_name}.gro\"\n",
        "    top_file = f\"{base_name}.top\"\n",
        "    tpr_file = f\"{base_name}.tpr\"\n",
        "\n",
        "    # Convert PDB to GROMACS .gro file and generate topology\n",
        "    try:\n",
        "        subprocess.run(['gmx', 'pdb2gmx', '-f', pdb_path, '-o', gro_file, '-p', top_file, '-water', 'spce'], check=True)\n",
        "\n",
        "        # Generate .tpr file\n",
        "        subprocess.run(['gmx', 'grompp', '-f', mdp_filename, '-c', gro_file, '-p', top_file, '-o', tpr_file], check=True)\n",
        "\n",
        "        print(f\"Prepared {base_name} successfully.\")\n",
        "    except subprocess.CalledProcessError as e:\n",
        "        print(f\"Failed to prepare {base_name}. Error: {e}\")\n"
      ],
      "metadata": {
        "id": "U8rnwGgO1y3X"
      },
      "execution_count": null,
      "outputs": []
    },
    {
      "cell_type": "code",
      "source": [
        "# Run MD simulation\n",
        "for pdb_file in pdb_files:\n",
        "    base_name = os.path.splitext(pdb_file)[0]\n",
        "    tpr_file = f\"{base_name}.tpr\"\n",
        "    output_prefix = f\"{base_name}_output\"\n",
        "\n",
        "    try:\n",
        "        subprocess.run(['gmx', 'mdrun', '-s', tpr_file, '-deffnm', output_prefix], check=True)\n",
        "        print(f\"MD simulation completed for {base_name}.\")\n",
        "    except subprocess.CalledProcessError as e:\n",
        "        print(f\"Failed to run MD simulation for {base_name}. Error: {e}\")\n"
      ],
      "metadata": {
        "id": "xfCk3pCbRpTm"
      },
      "execution_count": null,
      "outputs": []
    },
    {
      "cell_type": "code",
      "source": [
        "import pandas as pd\n",
        "\n",
        "# Function to parse DSSP output\n",
        "def parse_dssp_output(file_path):\n",
        "    with open(file_path, 'r') as file:\n",
        "        lines = file.readlines()\n",
        "    ss_data = {\n",
        "        'H': 0,  # Alpha helices\n",
        "        'B': 0,  # Beta bridges\n",
        "        'E': 0,  # Extended strands\n",
        "        'G': 0,  # 3-10 helices\n",
        "        'I': 0,  # Pi helices\n",
        "        'T': 0,  # Turns\n",
        "        'S': 0,  # Bends\n",
        "        '-': 0   # Coils\n",
        "    }\n",
        "    for line in lines:\n",
        "        if line.startswith('#') or line.startswith('@'):\n",
        "            continue\n",
        "        elements = line.strip().split()\n",
        "        for ss_type in ss_data.keys():\n",
        "            if ss_type in elements:\n",
        "                ss_data[ss_type] += elements.count(ss_type)\n",
        "    total_residues = sum(ss_data.values())\n",
        "    ss_percentage = {k: v / total_residues for k, v in ss_data.items()}\n",
        "    return ss_percentage\n",
        "\n",
        "# Run GMX do_dssp and parse output\n",
        "ss_features_list = []\n",
        "for pdb_file in pdb_files:\n",
        "    base_name = os.path.splitext(pdb_file)[0]\n",
        "    tpr_file = f\"{base_name}.tpr\"\n",
        "    xtc_file = f\"{base_name}_output.xtc\"\n",
        "    ss_xpm_file = f\"{base_name}_ss.xpm\"\n",
        "    ss_count_file = f\"{base_name}_ss_count.xvg\"\n",
        "\n",
        "    try:\n",
        "        subprocess.run(['gmx', 'do_dssp', '-s', tpr_file, '-f', xtc_file, '-o', ss_xpm_file, '-sc', ss_count_file], check=True)\n",
        "        ss_features = parse_dssp_output(ss_count_file)\n",
        "        ss_features_list.append(ss_features)\n",
        "        print(f\"Secondary structure analysis completed for {base_name}.\")\n",
        "    except subprocess.CalledProcessError as e:\n",
        "        print(f\"Failed to run do_dssp for {base_name}. Error: {e}\")\n",
        "\n",
        "# Convert to DataFrame\n",
        "ss_features_df = pd.DataFrame(ss_features_list)\n"
      ],
      "metadata": {
        "id": "wJIYyNyfRqH4"
      },
      "execution_count": null,
      "outputs": []
    },
    {
      "cell_type": "code",
      "source": [
        "from Bio.SeqUtils.ProtParam import ProteinAnalysis\n",
        "from sklearn.model_selection import train_test_split\n",
        "from sklearn.preprocessing import StandardScaler\n",
        "from sklearn.ensemble import RandomForestRegressor\n",
        "from sklearn.metrics import mean_squared_error\n",
        "from scipy.stats import pearsonr\n",
        "\n",
        "# Load dataset and extract biopython features\n",
        "data = pd.read_csv('/content/PDB+TM+FASTA (1).csv')\n",
        "\n",
        "def extract_biopython_features(sequence):\n",
        "    try:\n",
        "        sequence = sequence.replace('\\r', '').replace('\\n', '')\n",
        "        analysis = ProteinAnalysis(sequence)\n",
        "        features = {\n",
        "            'molecular_weight': analysis.molecular_weight(),\n",
        "            'aromaticity': analysis.aromaticity(),\n",
        "            'instability_index': analysis.instability_index(),\n",
        "            'isoelectric_point': analysis.isoelectric_point(),\n",
        "            'gravy': analysis.gravy(),\n",
        "            'flexibility': sum(analysis.flexibility()) / len(sequence),\n",
        "            'charge_at_pH_7': analysis.charge_at_pH(7.0),\n",
        "        }\n",
        "        return features\n",
        "    except Exception as e:\n",
        "        print(f\"Error processing sequence: {sequence}. Error: {e}\")\n",
        "        return None\n",
        "\n",
        "sequences = data['Sequence'].tolist()\n",
        "biopython_features = [extract_biopython_features(seq) for seq in sequences]\n",
        "biopython_features = [feat for feat in biopython_features if feat is not None]  # Remove None entries\n",
        "biopython_features_df = pd.DataFrame(biopython_features)\n",
        "\n",
        "# Combine biopython and secondary structure features\n",
        "combined_df = pd.concat([biopython_features_df, ss_features_df, data['melting_temp'].iloc[:len(biopython_features_df)]], axis=1)\n",
        "\n",
        "# Split data into training and testing sets\n",
        "X = combined_df.drop(columns=['melting_temp']).values\n",
        "y = combined_df['melting_temp'].values\n",
        "X_train, X_test, y_train, y_test = train_test_split(X, y, test_size=0.2, random_state=42)\n",
        "\n",
        "# Standardize features\n",
        "scaler = StandardScaler()\n",
        "X_train_scaled = scaler.fit_transform(X_train)\n",
        "X_test_scaled = scaler.transform(X_test)\n",
        "\n",
        "# Apply Random Forest Regressor\n",
        "rf = RandomForestRegressor(random_state=42)\n",
        "rf.fit(X_train_scaled, y_train)\n",
        "y_pred = rf.predict(X_test_scaled)\n",
        "\n",
        "# Evaluate the model\n",
        "mse = mean_squared_error(y_test, y_pred)\n",
        "pearson_corr, _ = pearsonr(y_test, y_pred)\n",
        "\n",
        "print(f\"Random Forest Regressor MSE: {mse:.4f}\")\n",
        "print(f\"Pearson correlation coefficient: {pearson_corr:.4f}\")\n"
      ],
      "metadata": {
        "id": "c0OB9C7IRvye"
      },
      "execution_count": null,
      "outputs": []
    }
  ]
}